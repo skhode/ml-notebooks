{
 "cells": [
  {
   "cell_type": "markdown",
   "metadata": {},
   "source": [
    "# IDS 575: Assignment 2\n",
    "\n",
    "- Turn in solutions as a single notebook (ipynb) _and_ as a pdf on Blackboard. No need to turn in datasets/word-docs.\n",
    "- Answer the following questions concisely, in complete sentences and with full clarity. Across group collaboration is _strictly_ not allowed. Always cite all your sources.\n",
    "- Make appropriate assumptions necessary in order to answer the questions, and mention them explicitly at the beginning of each answer."
   ]
  },
  {
   "cell_type": "markdown",
   "metadata": {},
   "source": [
    "### 1. Classification using Regression (5pt)\n",
    "1. Download the [Adult dataset](http://localhost:8888/lab) and read it into a dataframe using pandas.\n",
    "2. Display the top few rows of the dataframe using `head()`.\n",
    "3. Separate the variables into those that are categorical and those that are numeric. \n",
    "4. For the variables that are categorical, report the unique values and their counts. \n",
    "5. For each feature, also plot the normalized distribution of occurance of the values using a bar plot, after sorting them according to their occurance.\n",
    "6. Our aim is to predict the `class` column using the other attributes. This is a classification problem, and our objective is to solve it using linear regression. Describe how we can build a classifier using a linear model.\n",
    "7. Is the dataset balanced? Why or why not?"
   ]
  },
  {
   "cell_type": "code",
   "execution_count": null,
   "metadata": {},
   "outputs": [],
   "source": []
  }
 ],
 "metadata": {
  "kernelspec": {
   "display_name": "Python 3",
   "language": "python",
   "name": "python3"
  },
  "language_info": {
   "codemirror_mode": {
    "name": "ipython",
    "version": 3
   },
   "file_extension": ".py",
   "mimetype": "text/x-python",
   "name": "python",
   "nbconvert_exporter": "python",
   "pygments_lexer": "ipython3",
   "version": "3.7.6"
  }
 },
 "nbformat": 4,
 "nbformat_minor": 4
}
